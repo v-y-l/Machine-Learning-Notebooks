{
  "nbformat": 4,
  "nbformat_minor": 0,
  "metadata": {
    "colab": {
      "provenance": [],
      "include_colab_link": true
    },
    "kernelspec": {
      "name": "python3",
      "display_name": "Python 3"
    },
    "language_info": {
      "name": "python"
    }
  },
  "cells": [
    {
      "cell_type": "markdown",
      "metadata": {
        "id": "view-in-github",
        "colab_type": "text"
      },
      "source": [
        "<a href=\"https://colab.research.google.com/github/v-y-l/Machine-Learning-Notebooks/blob/main/Victor's_biased_estimation_using_krocker_products.ipynb\" target=\"_parent\"><img src=\"https://colab.research.google.com/assets/colab-badge.svg\" alt=\"Open In Colab\"/></a>"
      ]
    },
    {
      "cell_type": "markdown",
      "source": [
        "# Biased estimation: GELU Taylor Series decomposition using Kronecker Products\n",
        "## Section author: Victor Lin (vl2580)"
      ],
      "metadata": {
        "id": "2gzAv-CxoYKn"
      }
    },
    {
      "cell_type": "markdown",
      "source": [
        "## Implementation\n"
      ],
      "metadata": {
        "id": "69CrNmX6eauM"
      }
    },
    {
      "cell_type": "code",
      "source": [
        "import math\n",
        "import numpy as np\n",
        "\n",
        "# Approximates GELU using a 5-term Taylor expansion with Kronecker-feature decomposition\n",
        "class TaylorSeriesGeluEstimator:\n",
        "    def __init__(self, n_terms):\n",
        "        self.n = n_terms\n",
        "        self.coeffs = self._compute_coeffs()\n",
        "        self.powers = [1] + [2 * i + 2 for i in range(self.n)]\n",
        "\n",
        "    def _compute_coeffs(self):\n",
        "        coeffs = [0.5]\n",
        "        base = 1 / math.sqrt(2 * math.pi)\n",
        "        for i in range(self.n):\n",
        "            c = (-1)**i / (math.factorial(i) * (2**i) * (2 * i + 1))\n",
        "            coeffs.append(base * c)\n",
        "        return coeffs\n",
        "\n",
        "    def _kron_n(self, vec, times):\n",
        "        out = vec\n",
        "        for _ in range(times - 1):\n",
        "            out = np.kron(out, vec)\n",
        "        return out\n",
        "\n",
        "    def transform(self, vec, coeffs=None):\n",
        "        if coeffs is None:\n",
        "            coeffs = [1.0] * len(self.powers)\n",
        "        return np.concatenate([c * self._kron_n(vec, p) for c, p in zip(coeffs, self.powers)])\n",
        "\n",
        "    def get_phi(self, W):\n",
        "        return np.vstack([self.transform(w, self.coeffs) for w in W])\n",
        "\n",
        "    def get_psi(self, x):\n",
        "        return self.transform(x, coeffs=None)\n",
        "\n",
        "\n",
        "# Creates a toy dataset such that Wx falls within [-3, 3], ensuring accuracy of the 5-term Taylor approximation\n",
        "class ToyDataGenerator:\n",
        "    def __init__(self):\n",
        "        self.x = np.array([1.0, 0.1, 2.0])\n",
        "        self.W = np.array([\n",
        "            [-0.8, -0.8, -0.8],\n",
        "            [ 0.5,  0.5,  0.5],\n",
        "            [ 0.2,  0.3,  1.0]\n",
        "        ])\n",
        "\n",
        "    def generate(self):\n",
        "        x_prime = self.W @ self.x\n",
        "        print(\"### 5-term Taylor Series Approximation Range\")\n",
        "        print(\"This shows us that Wx should be within [−3, 3] in our demonstration.\\n\")\n",
        "        print(\"| Range of Wx | Max Error       |\")\n",
        "        print(\"|-------------|------------------|\")\n",
        "        print(\"| [-1, 1]     | 9 × 10⁻⁶         |\")\n",
        "        print(\"| [-3, 3]     | 3.0              |\")\n",
        "        print(\"| [-5, 5]     | 7.8 × 10²        |\")\n",
        "        print(\"| [-7, 7]     | 2.7 × 10⁴        |\")\n",
        "        print(\"\\nGenerated Wx = \", x_prime)\n",
        "        print(\"→ This dataset satisfies the ideal range for ≤ 3.0 error.\\n\")\n",
        "        return self.W, self.x, x_prime"
      ],
      "metadata": {
        "id": "-xuTU2k195CT"
      },
      "execution_count": 1,
      "outputs": []
    },
    {
      "cell_type": "markdown",
      "source": [
        "## Evaluation"
      ],
      "metadata": {
        "id": "OOWccm2N22Up"
      }
    },
    {
      "cell_type": "code",
      "source": [
        "# Compares GELU Taylor vs tanh approximation vs φ·ψ result\n",
        "class GELUComparator:\n",
        "    def __init__(self, n):\n",
        "        self.n = n\n",
        "\n",
        "    def gelu_tanh(self, x):\n",
        "        return 0.5 * x * (1 + np.tanh(np.sqrt(2/np.pi) * (x + 0.044715 * x**3)))\n",
        "\n",
        "    def gelu_taylor(self, x):\n",
        "        leading = 1 / math.sqrt(2 * math.pi)\n",
        "        s = 0\n",
        "        for i in range(self.n):\n",
        "            s += (-1)**i / (math.factorial(i) * (2**i) * (2*i+1)) * x**(2*i+1)\n",
        "        return x * (0.5 + leading * s)\n",
        "\n",
        "    def get_error(self, actual, expected):\n",
        "        return np.sqrt(np.mean((actual - expected)**2))\n",
        "\n",
        "    def compare(self, x_prime, phi_dot_psi):\n",
        "        print(\"==== Problem 3: Linearization of GELU Feedforward ====\\n\")\n",
        "        print(\"We want to approximate:\")\n",
        "        print(\"  y = GELU(Wx)    with    y' = Φ(W) · Ψ(x)\")\n",
        "        print(f\"Using a Taylor expansion with n = {self.n} terms.\\n\")\n",
        "\n",
        "        taylor = self.gelu_taylor(x_prime)\n",
        "        tanh = self.gelu_tanh(x_prime)\n",
        "\n",
        "        print(f\"x' = Wx = {x_prime}\")\n",
        "        print(f\"GELU_Taylor_{self.n}(x') = {taylor}\")\n",
        "        print(f\"Linearized y' = Φ(W) · Ψ(x) = {phi_dot_psi}\")\n",
        "        print(f\"GELU_Tanh(x') = {tanh}\")\n",
        "\n",
        "        error_taylor_vs_tanh = self.get_error(taylor, tanh)\n",
        "        error_phi_vs_taylor = self.get_error(phi_dot_psi, taylor)\n",
        "\n",
        "        print(\"\\n--- Error Metrics ---\")\n",
        "        print(f\"RMSE: Taylor (n={self.n}) vs Tanh GELU:         {error_taylor_vs_tanh:.5f}\")\n",
        "        print(f\"RMSE: Linearized φ · ψ vs Taylor GELU:         {error_phi_vs_taylor:.5f}\")\n",
        "\n",
        "        print(\"\\nConclusion: The linearized form approximates y = GELU(Wx) by constructing φ(W) and ψ(x) using Kronecker-lifted Taylor monomials.\\n\")\n",
        "\n",
        "# Bundled demo for dataset, transform, and comparison\n",
        "class GELUDemo:\n",
        "    def __init__(self, n_terms=5):\n",
        "        self.n_terms = n_terms\n",
        "        self.estimator = TaylorSeriesGeluEstimator(n_terms)\n",
        "        self.generator = ToyDataGenerator()\n",
        "        self.comparator = GELUComparator(n_terms)\n",
        "\n",
        "    def run(self):\n",
        "        W, x, x_prime = self.generator.generate()\n",
        "\n",
        "        phi = self.estimator.get_phi(W)\n",
        "        psi = self.estimator.get_psi(x)\n",
        "        phi_dot_psi = phi @ psi\n",
        "\n",
        "        print(\"Φ(W) shape:\", phi.shape)\n",
        "        print(\"Ψ(x) shape:\", psi.shape)\n",
        "        print(\"Linearized output y' = Φ(W) · Ψ(x) =\", phi_dot_psi, \"\\n\")\n",
        "\n",
        "        self.comparator.compare(x_prime, phi_dot_psi)\n",
        "\n",
        "# Execute the full GELU decomposition and comparison demo\n",
        "GELUDemo(n_terms=5).run()"
      ],
      "metadata": {
        "colab": {
          "base_uri": "https://localhost:8080/"
        },
        "id": "np5A0pA3-fwt",
        "outputId": "84e205c4-6a85-4e64-a3dd-72013b418d82"
      },
      "execution_count": 2,
      "outputs": [
        {
          "output_type": "stream",
          "name": "stdout",
          "text": [
            "### 5-term Taylor Series Approximation Range\n",
            "This shows us that Wx should be within [−3, 3] in our demonstration.\n",
            "\n",
            "| Range of Wx | Max Error       |\n",
            "|-------------|------------------|\n",
            "| [-1, 1]     | 9 × 10⁻⁶         |\n",
            "| [-3, 3]     | 3.0              |\n",
            "| [-5, 5]     | 7.8 × 10²        |\n",
            "| [-7, 7]     | 2.7 × 10⁴        |\n",
            "\n",
            "Generated Wx =  [-2.48  1.55  2.23]\n",
            "→ This dataset satisfies the ideal range for ≤ 3.0 error.\n",
            "\n",
            "Φ(W) shape: (3, 66432)\n",
            "Ψ(x) shape: (66432,)\n",
            "Linearized output y' = Φ(W) · Ψ(x) = [0.33582152 1.45766421 2.30608443] \n",
            "\n",
            "==== Problem 3: Linearization of GELU Feedforward ====\n",
            "\n",
            "We want to approximate:\n",
            "  y = GELU(Wx)    with    y' = Φ(W) · Ψ(x)\n",
            "Using a Taylor expansion with n = 5 terms.\n",
            "\n",
            "x' = Wx = [-2.48  1.55  2.23]\n",
            "GELU_Taylor_5(x') = [0.33582152 1.45766421 2.30608443]\n",
            "Linearized y' = Φ(W) · Ψ(x) = [0.33582152 1.45766421 2.30608443]\n",
            "GELU_Tanh(x') = [-0.01585868  1.45591211  2.20158061]\n",
            "\n",
            "--- Error Metrics ---\n",
            "RMSE: Taylor (n=5) vs Tanh GELU:         0.21182\n",
            "RMSE: Linearized φ · ψ vs Taylor GELU:         0.00000\n",
            "\n",
            "Conclusion: The linearized form approximates y = GELU(Wx) by constructing φ(W) and ψ(x) using Kronecker-lifted Taylor monomials.\n",
            "\n"
          ]
        }
      ]
    },
    {
      "cell_type": "markdown",
      "source": [],
      "metadata": {
        "id": "juqg65s1ITaz"
      }
    }
  ]
}