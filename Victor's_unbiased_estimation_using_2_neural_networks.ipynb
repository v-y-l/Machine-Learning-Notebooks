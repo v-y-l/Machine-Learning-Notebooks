{
  "nbformat": 4,
  "nbformat_minor": 0,
  "metadata": {
    "colab": {
      "provenance": [],
      "include_colab_link": true
    },
    "kernelspec": {
      "name": "python3",
      "display_name": "Python 3"
    },
    "language_info": {
      "name": "python"
    }
  },
  "cells": [
    {
      "cell_type": "markdown",
      "metadata": {
        "id": "view-in-github",
        "colab_type": "text"
      },
      "source": [
        "<a href=\"https://colab.research.google.com/github/v-y-l/Machine-Learning-Notebooks/blob/main/Victor's_unbiased_estimation_using_2_neural_networks.ipynb\" target=\"_parent\"><img src=\"https://colab.research.google.com/assets/colab-badge.svg\" alt=\"Open In Colab\"/></a>"
      ]
    },
    {
      "cell_type": "markdown",
      "source": [
        "# Unbiased estimation using two neural networks\n",
        "## Section author: Victor Lin (vl2580)"
      ],
      "metadata": {
        "id": "4Crw0r59IRWh"
      }
    },
    {
      "cell_type": "markdown",
      "source": [
        "## Implementation"
      ],
      "metadata": {
        "id": "ulfaPfpYLny1"
      }
    },
    {
      "cell_type": "code",
      "source": [
        "import torch\n",
        "import torch.nn as nn\n",
        "import math\n",
        "from torch.utils.data import Dataset, DataLoader\n",
        "\n",
        "class GeluDataset(Dataset):\n",
        "    def __init__(self, N, d):\n",
        "        self.W = torch.randn(N, d, d)\n",
        "        self.x = torch.randn(N, d)\n",
        "        Z = torch.einsum('bij,bj->bi', self.W, self.x)\n",
        "        self.y = 0.5 * Z * (1 + torch.erf(Z / math.sqrt(2)))\n",
        "\n",
        "    def __len__(self):\n",
        "        return len(self.x)\n",
        "\n",
        "    def __getitem__(self, idx):\n",
        "        return self.W[idx], self.x[idx], self.y[idx]\n",
        "\n",
        "class PsiNet(nn.Module):\n",
        "    def __init__(self, d, m, hidden=64):\n",
        "        super().__init__()\n",
        "        self.net = nn.Sequential(\n",
        "            nn.Linear(d, hidden),\n",
        "            nn.ReLU(),\n",
        "            nn.Linear(hidden, m)\n",
        "        )\n",
        "\n",
        "    def forward(self, x):\n",
        "        return self.net(x)\n",
        "\n",
        "class PhiNet(nn.Module):\n",
        "    def __init__(self, d, m, hidden=64):\n",
        "        super().__init__()\n",
        "        self.net = nn.Sequential(\n",
        "            nn.Linear(d, hidden),\n",
        "            nn.ReLU(),\n",
        "            nn.Linear(hidden, m)\n",
        "        )\n",
        "\n",
        "    def forward(self, W):\n",
        "        B, D, _ = W.shape\n",
        "        W_flat = W.view(B * D, D)\n",
        "        out_flat = self.net(W_flat)\n",
        "        return out_flat.view(B, D, -1)\n",
        "\n",
        "# --- Hyperparameters ---\n",
        "# d: input/output dimension; m: hidden feature dimension\n",
        "# N: dataset size; batch_size: training mini-batch size\n",
        "# epochs: number of full passes over the data\n",
        "d, m, N, batch_size, epochs = 2, 16, 1024, 64, 5\n",
        "\n",
        "# --- Setup data + models ---\n",
        "dataset = GeluDataset(N, d)\n",
        "loader = DataLoader(dataset, batch_size=batch_size, shuffle=True)\n",
        "psi = PsiNet(d, m)\n",
        "phi = PhiNet(d, m)\n",
        "\n",
        "# --- Optimizer ---\n",
        "# Adam: fast convergence with minimal tuning, good for deep MLPs\n",
        "optimizer = torch.optim.Adam(list(psi.parameters()) + list(phi.parameters()), lr=1e-3)\n",
        "criterion = nn.MSELoss()\n",
        "\n",
        "# --- Training loop ---\n",
        "for epoch in range(1, epochs + 1):\n",
        "    total_loss = 0.0\n",
        "    for Wb, xb, yb in loader:\n",
        "        optimizer.zero_grad()\n",
        "        ψ = psi(xb)                      # (B, m)\n",
        "        Φ = phi(Wb)                      # (B, d, m)\n",
        "        y_pred = torch.bmm(Φ, ψ.unsqueeze(-1)).squeeze(-1)  # (B, d)\n",
        "        loss = criterion(y_pred, yb)\n",
        "        loss.backward()\n",
        "        optimizer.step()\n",
        "        total_loss += loss.item() * Wb.size(0)\n",
        "\n",
        "    print(f\"Epoch {epoch}: MSE = {total_loss / N:.4f}\")"
      ],
      "metadata": {
        "id": "8tSiY-i9Rcjk",
        "outputId": "bd521993-70e2-42d9-bda3-8117271649ee",
        "colab": {
          "base_uri": "https://localhost:8080/"
        }
      },
      "execution_count": null,
      "outputs": [
        {
          "output_type": "stream",
          "name": "stdout",
          "text": [
            "Epoch 1: MSE = 0.4861\n",
            "Epoch 2: MSE = 0.1841\n",
            "Epoch 3: MSE = 0.1367\n",
            "Epoch 4: MSE = 0.1110\n",
            "Epoch 5: MSE = 0.1005\n"
          ]
        }
      ]
    },
    {
      "cell_type": "markdown",
      "source": [
        "## Evaluation"
      ],
      "metadata": {
        "id": "j62UY_pjy7XF"
      }
    },
    {
      "cell_type": "code",
      "source": [
        "import numpy as np\n",
        "import torch\n",
        "\n",
        "class NeuralGELUComparator:\n",
        "    def __init__(self, phi_model, psi_model):\n",
        "        self.phi = phi_model\n",
        "        self.psi = psi_model\n",
        "\n",
        "    def gelu_tanh(self, x):\n",
        "        return 0.5 * x * (1 + np.tanh(np.sqrt(2/np.pi) * (x + 0.044715 * x**3)))\n",
        "\n",
        "    def compare(self, W_test, x_test):\n",
        "        with torch.no_grad():\n",
        "            ψ = self.psi(x_test)                         # (1, m)\n",
        "            Φ = self.phi(W_test)                         # (1, d, m)\n",
        "            y_approx = torch.bmm(Φ, ψ.unsqueeze(-1)).squeeze().numpy()\n",
        "\n",
        "            x_proj = torch.bmm(W_test, x_test.unsqueeze(-1)).squeeze().numpy()\n",
        "            y_true = self.gelu_tanh(x_proj)\n",
        "\n",
        "        print(\"==== Neural φ/ψ Linearization of GELU ====\\n\")\n",
        "        print(f\"x' = Wx = {x_proj}\")\n",
        "        print(f\"Learned φ(W) · ψ(x) = {y_approx}\")\n",
        "        print(f\"GELU_tanh(x')      = {y_true}\")\n",
        "\n",
        "        rmse = np.sqrt(np.mean((y_approx - y_true) ** 2))\n",
        "        print(f\"\\nRMSE: Linearized φ · ψ vs GELU_tanh = {rmse:.5f}\")\n",
        "\n",
        "class NeuralGELUDemo:\n",
        "    def __init__(self, phi_model, psi_model, d):\n",
        "        self.phi = phi_model\n",
        "        self.psi = psi_model\n",
        "        self.d = d\n",
        "        self.comparator = NeuralGELUComparator(phi_model, psi_model)\n",
        "\n",
        "    def run(self):\n",
        "        W_test = torch.randn(1, self.d, self.d)\n",
        "        x_test = torch.randn(1, self.d)\n",
        "        self.comparator.compare(W_test, x_test)\n",
        "\n",
        "NeuralGELUDemo(phi, psi, d=2).run()"
      ],
      "metadata": {
        "colab": {
          "base_uri": "https://localhost:8080/"
        },
        "id": "c56_ml0DUySO",
        "outputId": "c8d7a376-bbbe-4aee-c846-ae211785e366"
      },
      "execution_count": null,
      "outputs": [
        {
          "output_type": "stream",
          "name": "stdout",
          "text": [
            "==== Neural φ/ψ Linearization of GELU ====\n",
            "\n",
            "x' = Wx = [-1.6321478   0.35398495]\n",
            "Learned φ(W) · ψ(x) = [-0.5063332  0.4370784]\n",
            "GELU_tanh(x')      = [-0.08393819  0.22595268]\n",
            "\n",
            "RMSE: Linearized φ · ψ vs GELU_tanh = 0.33391\n"
          ]
        }
      ]
    },
    {
      "cell_type": "markdown",
      "source": [],
      "metadata": {
        "id": "juqg65s1ITaz"
      }
    }
  ]
}