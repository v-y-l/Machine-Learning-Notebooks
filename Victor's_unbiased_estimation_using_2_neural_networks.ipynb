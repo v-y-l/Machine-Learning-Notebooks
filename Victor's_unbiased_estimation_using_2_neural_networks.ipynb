{
  "nbformat": 4,
  "nbformat_minor": 0,
  "metadata": {
    "colab": {
      "provenance": [],
      "include_colab_link": true
    },
    "kernelspec": {
      "name": "python3",
      "display_name": "Python 3"
    },
    "language_info": {
      "name": "python"
    }
  },
  "cells": [
    {
      "cell_type": "markdown",
      "metadata": {
        "id": "view-in-github",
        "colab_type": "text"
      },
      "source": [
        "<a href=\"https://colab.research.google.com/github/v-y-l/Machine-Learning-Notebooks/blob/main/Victor's_unbiased_estimation_using_2_neural_networks.ipynb\" target=\"_parent\"><img src=\"https://colab.research.google.com/assets/colab-badge.svg\" alt=\"Open In Colab\"/></a>"
      ]
    },
    {
      "cell_type": "markdown",
      "source": [
        "# Unbiased estimation using two neural networks\n",
        "## Section author: Victor Lin (vl2580)"
      ],
      "metadata": {
        "id": "4Crw0r59IRWh"
      }
    },
    {
      "cell_type": "markdown",
      "source": [
        "## Implementation"
      ],
      "metadata": {
        "id": "ulfaPfpYLny1"
      }
    },
    {
      "cell_type": "code",
      "source": [
        "import torch\n",
        "import torch.nn as nn\n",
        "import math\n",
        "from torch.utils.data import Dataset, DataLoader\n",
        "\n",
        "class GeluDataset(Dataset):\n",
        "    def __init__(self, N, d):\n",
        "        self.W = torch.randn(N, d, d)\n",
        "        self.x = torch.randn(N, d)\n",
        "        Z = torch.einsum('bij,bj->bi', self.W, self.x)\n",
        "        self.y = 0.5 * Z * (1 + torch.erf(Z / math.sqrt(2)))\n",
        "\n",
        "    def __len__(self):\n",
        "        return len(self.x)\n",
        "\n",
        "    def __getitem__(self, idx):\n",
        "        return self.W[idx], self.x[idx], self.y[idx]\n",
        "\n",
        "class PsiNet(nn.Module):\n",
        "    def __init__(self, d, m, hidden=64):\n",
        "        super().__init__()\n",
        "        self.net = nn.Sequential(\n",
        "            nn.Linear(d, hidden),\n",
        "            nn.ReLU(),\n",
        "            nn.Linear(hidden, m)\n",
        "        )\n",
        "\n",
        "    def forward(self, x):\n",
        "        return self.net(x)\n",
        "\n",
        "class PhiNet(nn.Module):\n",
        "    def __init__(self, d, m, hidden=64):\n",
        "        super().__init__()\n",
        "        self.net = nn.Sequential(\n",
        "            nn.Linear(d, hidden),\n",
        "            nn.ReLU(),\n",
        "            nn.Linear(hidden, m)\n",
        "        )\n",
        "\n",
        "    def forward(self, W):\n",
        "        B, D, _ = W.shape\n",
        "        W_flat = W.view(B * D, D)\n",
        "        out_flat = self.net(W_flat)\n",
        "        return out_flat.view(B, D, -1)\n",
        "\n",
        "# --- Hyperparameters ---\n",
        "# d: input/output dimension; m: hidden feature dimension\n",
        "# N: dataset size; batch_size: training mini-batch size\n",
        "# epochs: number of full passes over the data\n",
        "d, m, N, batch_size, epochs = 2, 16, 1024, 64, 5\n",
        "\n",
        "# --- Setup data + models ---\n",
        "dataset = GeluDataset(N, d)\n",
        "loader = DataLoader(dataset, batch_size=batch_size, shuffle=True)\n",
        "psi = PsiNet(d, m)\n",
        "phi = PhiNet(d, m)\n",
        "\n",
        "# --- Optimizer ---\n",
        "# Adam: fast convergence with minimal tuning, good for deep MLPs\n",
        "optimizer = torch.optim.Adam(list(psi.parameters()) + list(phi.parameters()), lr=1e-3)\n",
        "criterion = nn.MSELoss()\n",
        "\n",
        "# --- Training loop ---\n",
        "for epoch in range(1, epochs + 1):\n",
        "    total_loss = 0.0\n",
        "    for Wb, xb, yb in loader:\n",
        "        optimizer.zero_grad()\n",
        "        ψ = psi(xb)                      # (B, m)\n",
        "        Φ = phi(Wb)                      # (B, d, m)\n",
        "        y_pred = torch.bmm(Φ, ψ.unsqueeze(-1)).squeeze(-1)  # (B, d)\n",
        "        loss = criterion(y_pred, yb)\n",
        "        loss.backward()\n",
        "        optimizer.step()\n",
        "        total_loss += loss.item() * Wb.size(0)\n",
        "\n",
        "    print(f\"Epoch {epoch}: MSE = {total_loss / N:.4f}\")"
      ],
      "metadata": {
        "id": "8tSiY-i9Rcjk"
      },
      "execution_count": null,
      "outputs": []
    },
    {
      "cell_type": "markdown",
      "source": [
        "## Validation"
      ],
      "metadata": {
        "id": "j62UY_pjy7XF"
      }
    },
    {
      "cell_type": "code",
      "source": [
        "import numpy as np\n",
        "import torch\n",
        "\n",
        "class NeuralGELUComparator:\n",
        "    def __init__(self, phi_model, psi_model):\n",
        "        self.phi = phi_model\n",
        "        self.psi = psi_model\n",
        "\n",
        "    def gelu_tanh(self, x):\n",
        "        return 0.5 * x * (1 + np.tanh(np.sqrt(2/np.pi) * (x + 0.044715 * x**3)))\n",
        "\n",
        "    def compare(self, W_test, x_test):\n",
        "        with torch.no_grad():\n",
        "            ψ = self.psi(x_test)                         # (1, m)\n",
        "            Φ = self.phi(W_test)                         # (1, d, m)\n",
        "            y_approx = torch.bmm(Φ, ψ.unsqueeze(-1)).squeeze().numpy()\n",
        "\n",
        "            x_proj = torch.bmm(W_test, x_test.unsqueeze(-1)).squeeze().numpy()\n",
        "            y_true = self.gelu_tanh(x_proj)\n",
        "\n",
        "        print(\"==== Neural φ/ψ Linearization of GELU ====\\n\")\n",
        "        print(f\"x' = Wx = {x_proj}\")\n",
        "        print(f\"Learned φ(W) · ψ(x) = {y_approx}\")\n",
        "        print(f\"GELU_tanh(x')      = {y_true}\")\n",
        "\n",
        "        rmse = np.sqrt(np.mean((y_approx - y_true) ** 2))\n",
        "        print(f\"\\nRMSE: Linearized φ · ψ vs GELU_tanh = {rmse:.5f}\")\n",
        "\n",
        "class NeuralGELUDemo:\n",
        "    def __init__(self, phi_model, psi_model, d):\n",
        "        self.phi = phi_model\n",
        "        self.psi = psi_model\n",
        "        self.d = d\n",
        "        self.comparator = NeuralGELUComparator(phi_model, psi_model)\n",
        "\n",
        "    def run(self):\n",
        "        W_test = torch.randn(1, self.d, self.d)\n",
        "        x_test = torch.randn(1, self.d)\n",
        "        self.comparator.compare(W_test, x_test)\n",
        "\n",
        "NeuralGELUDemo(phi, psi, d=2).run()"
      ],
      "metadata": {
        "colab": {
          "base_uri": "https://localhost:8080/",
          "height": 176
        },
        "id": "c56_ml0DUySO",
        "outputId": "90185dad-f64b-4692-a9e5-0924d49638c2"
      },
      "execution_count": 1,
      "outputs": [
        {
          "output_type": "error",
          "ename": "NameError",
          "evalue": "name 'phi' is not defined",
          "traceback": [
            "\u001b[0;31m---------------------------------------------------------------------------\u001b[0m",
            "\u001b[0;31mNameError\u001b[0m                                 Traceback (most recent call last)",
            "\u001b[0;32m<ipython-input-1-dab58e1fa568>\u001b[0m in \u001b[0;36m<cell line: 0>\u001b[0;34m()\u001b[0m\n\u001b[1;32m     39\u001b[0m         \u001b[0mself\u001b[0m\u001b[0;34m.\u001b[0m\u001b[0mcomparator\u001b[0m\u001b[0;34m.\u001b[0m\u001b[0mcompare\u001b[0m\u001b[0;34m(\u001b[0m\u001b[0mW_test\u001b[0m\u001b[0;34m,\u001b[0m \u001b[0mx_test\u001b[0m\u001b[0;34m)\u001b[0m\u001b[0;34m\u001b[0m\u001b[0;34m\u001b[0m\u001b[0m\n\u001b[1;32m     40\u001b[0m \u001b[0;34m\u001b[0m\u001b[0m\n\u001b[0;32m---> 41\u001b[0;31m \u001b[0mNeuralGELUDemo\u001b[0m\u001b[0;34m(\u001b[0m\u001b[0mphi\u001b[0m\u001b[0;34m,\u001b[0m \u001b[0mpsi\u001b[0m\u001b[0;34m,\u001b[0m \u001b[0md\u001b[0m\u001b[0;34m=\u001b[0m\u001b[0;36m2\u001b[0m\u001b[0;34m)\u001b[0m\u001b[0;34m.\u001b[0m\u001b[0mrun\u001b[0m\u001b[0;34m(\u001b[0m\u001b[0;34m)\u001b[0m\u001b[0;34m\u001b[0m\u001b[0;34m\u001b[0m\u001b[0m\n\u001b[0m",
            "\u001b[0;31mNameError\u001b[0m: name 'phi' is not defined"
          ]
        }
      ]
    },
    {
      "cell_type": "markdown",
      "source": [],
      "metadata": {
        "id": "juqg65s1ITaz"
      }
    }
  ]
}