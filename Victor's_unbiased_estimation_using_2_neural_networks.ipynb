{
  "nbformat": 4,
  "nbformat_minor": 0,
  "metadata": {
    "colab": {
      "provenance": [],
      "include_colab_link": true
    },
    "kernelspec": {
      "name": "python3",
      "display_name": "Python 3"
    },
    "language_info": {
      "name": "python"
    }
  },
  "cells": [
    {
      "cell_type": "markdown",
      "metadata": {
        "id": "view-in-github",
        "colab_type": "text"
      },
      "source": [
        "<a href=\"https://colab.research.google.com/github/v-y-l/Machine-Learning-Notebooks/blob/main/Victor's_unbiased_estimation_using_2_neural_networks.ipynb\" target=\"_parent\"><img src=\"https://colab.research.google.com/assets/colab-badge.svg\" alt=\"Open In Colab\"/></a>"
      ]
    },
    {
      "cell_type": "markdown",
      "source": [
        "# Unbiased estimation using two neural networks\n",
        "## Section author: Victor Lin (vl2580)"
      ],
      "metadata": {
        "id": "4Crw0r59IRWh"
      }
    },
    {
      "cell_type": "markdown",
      "source": [
        "## Implementation"
      ],
      "metadata": {
        "id": "ulfaPfpYLny1"
      }
    },
    {
      "cell_type": "code",
      "source": [
        "import torch\n",
        "import torch.nn as nn\n",
        "import math\n",
        "from torch.utils.data import Dataset, DataLoader\n",
        "\n",
        "class GeluDataset(Dataset):\n",
        "    def __init__(self, N, d):\n",
        "        self.W = torch.randn(N, d, d)\n",
        "        self.x = torch.randn(N, d)\n",
        "        Z = torch.einsum('bij,bj->bi', self.W, self.x)\n",
        "        self.y = 0.5 * Z * (1 + torch.erf(Z / math.sqrt(2)))\n",
        "\n",
        "    def __len__(self):\n",
        "        return len(self.x)\n",
        "\n",
        "    def __getitem__(self, idx):\n",
        "        return self.W[idx], self.x[idx], self.y[idx]\n",
        "\n",
        "class PsiNet(nn.Module):\n",
        "    def __init__(self, d, m, hidden=64):\n",
        "        super().__init__()\n",
        "        self.net = nn.Sequential(\n",
        "            nn.Linear(d, hidden),\n",
        "            nn.ReLU(),\n",
        "            nn.Linear(hidden, m)\n",
        "        )\n",
        "\n",
        "    def forward(self, x):\n",
        "        return self.net(x)\n",
        "\n",
        "class PhiNet(nn.Module):\n",
        "    def __init__(self, d, m, hidden=64):\n",
        "        super().__init__()\n",
        "        self.net = nn.Sequential(\n",
        "            nn.Linear(d, hidden),\n",
        "            nn.ReLU(),\n",
        "            nn.Linear(hidden, m)\n",
        "        )\n",
        "\n",
        "    def forward(self, W):\n",
        "        B, D, _ = W.shape\n",
        "        W_flat = W.view(B * D, D)\n",
        "        out_flat = self.net(W_flat)\n",
        "        return out_flat.view(B, D, -1)\n",
        "\n",
        "class GeluTrainer:\n",
        "    def __init__(self, d=2, m=16, N=1024, batch_size=64, hidden=64, lr=1e-3):\n",
        "        self.d = d\n",
        "        self.m = m\n",
        "        self.N = N\n",
        "        self.batch_size = batch_size\n",
        "        self.dataset = GeluDataset(N, d)\n",
        "        self.loader = DataLoader(self.dataset, batch_size=batch_size, shuffle=True)\n",
        "        self.psi = PsiNet(d, m, hidden)\n",
        "        self.phi = PhiNet(d, m, hidden)\n",
        "        self.optimizer = torch.optim.Adam(\n",
        "            list(self.psi.parameters()) + list(self.phi.parameters()), lr=lr\n",
        "        )\n",
        "        self.criterion = nn.MSELoss()\n",
        "\n",
        "    def train(self, num_epochs):\n",
        "        for epoch in range(1, num_epochs + 1):\n",
        "            total_loss = 0.0\n",
        "            for Wb, xb, yb in self.loader:\n",
        "                self.optimizer.zero_grad()\n",
        "                ψ = self.psi(xb)\n",
        "                Φ = self.phi(Wb)\n",
        "                y_pred = torch.bmm(Φ, ψ.unsqueeze(-1)).squeeze(-1)\n",
        "                loss = self.criterion(y_pred, yb)\n",
        "                loss.backward()\n",
        "                self.optimizer.step()\n",
        "                total_loss += loss.item() * Wb.size(0)\n",
        "            mse = total_loss / self.N\n",
        "            print(f\"Epoch {epoch}: MSE = {mse:.4f}\")\n",
        "        return self.phi, self.psi"
      ],
      "metadata": {
        "id": "8tSiY-i9Rcjk"
      },
      "execution_count": 3,
      "outputs": []
    },
    {
      "cell_type": "markdown",
      "source": [
        "## Evaluation"
      ],
      "metadata": {
        "id": "j62UY_pjy7XF"
      }
    },
    {
      "cell_type": "code",
      "source": [
        "import numpy as np\n",
        "\n",
        "# --- Evaluation ---\n",
        "class NeuralGELUComparator:\n",
        "    def __init__(self, phi_model, psi_model):\n",
        "        self.phi = phi_model\n",
        "        self.psi = psi_model\n",
        "\n",
        "    def gelu_tanh(self, x):\n",
        "        return 0.5 * x * (1 + np.tanh(np.sqrt(2/np.pi) * (x + 0.044715 * x**3)))\n",
        "\n",
        "    def compare(self, W_test, x_test):\n",
        "        with torch.no_grad():\n",
        "            ψ = self.psi(x_test)                         # (1, m)\n",
        "            Φ = self.phi(W_test)                         # (1, d, m)\n",
        "            y_approx = torch.bmm(Φ, ψ.unsqueeze(-1)).squeeze().numpy()\n",
        "            x_proj = torch.bmm(W_test, x_test.unsqueeze(-1)).squeeze().numpy()\n",
        "            y_true = self.gelu_tanh(x_proj)\n",
        "        rmse = np.sqrt(np.mean((y_approx - y_true) ** 2))\n",
        "        return rmse, y_approx, y_true\n",
        "\n",
        "# --- Runner ---\n",
        "def run_demo(epoch_counts):\n",
        "    results = []\n",
        "    for count in epoch_counts:\n",
        "        print(f\"\\n=== Training for {count} epochs ===\")\n",
        "        trainer = GeluTrainer(d=2, m=16, N=1024)\n",
        "        phi, psi = trainer.train(num_epochs=count)\n",
        "\n",
        "        # Evaluate\n",
        "        W_test = torch.randn(1, 2, 2)\n",
        "        x_test = torch.randn(1, 2)\n",
        "        comparator = NeuralGELUComparator(phi, psi)\n",
        "        rmse, y_hat, y_true = comparator.compare(W_test, x_test)\n",
        "\n",
        "        print(\"\\n--- Prediction Breakdown ---\")\n",
        "        print(f\"Wx = {torch.matmul(W_test, x_test.unsqueeze(-1)).squeeze().numpy()}\")\n",
        "        print(f\"φ(W) · ψ(x) = {y_hat}\")\n",
        "        print(f\"GELU_tanh  = {y_true}\")\n",
        "        print(f\"RMSE = {rmse:.5f}\")\n",
        "        results.append((count, rmse))\n",
        "\n",
        "    best = min(results, key=lambda x: x[1])\n",
        "    print(f\"\\n Best model: {best[0]} epochs (RMSE = {best[1]:.5f})\")\n",
        "\n",
        "# Run for 3 epoch settings\n",
        "run_demo(epoch_counts=[3, 10, 30])"
      ],
      "metadata": {
        "colab": {
          "base_uri": "https://localhost:8080/"
        },
        "id": "c56_ml0DUySO",
        "outputId": "96aa3505-b161-4e5e-bef8-92008401fb54"
      },
      "execution_count": 5,
      "outputs": [
        {
          "output_type": "stream",
          "name": "stdout",
          "text": [
            "\n",
            "=== Training for 3 epochs ===\n",
            "Epoch 1: MSE = 0.6499\n",
            "Epoch 2: MSE = 0.2438\n",
            "Epoch 3: MSE = 0.1443\n",
            "\n",
            "--- Prediction Breakdown ---\n",
            "Wx = [0.70764357 1.4289331 ]\n",
            "φ(W) · ψ(x) = [0.65369165 1.1865686 ]\n",
            "GELU_tanh  = [0.53804669 1.31937287]\n",
            "RMSE = 0.12452\n",
            "\n",
            "=== Training for 10 epochs ===\n",
            "Epoch 1: MSE = 0.6455\n",
            "Epoch 2: MSE = 0.2836\n",
            "Epoch 3: MSE = 0.1449\n",
            "Epoch 4: MSE = 0.1196\n",
            "Epoch 5: MSE = 0.0992\n",
            "Epoch 6: MSE = 0.0877\n",
            "Epoch 7: MSE = 0.0792\n",
            "Epoch 8: MSE = 0.0742\n",
            "Epoch 9: MSE = 0.0700\n",
            "Epoch 10: MSE = 0.0629\n",
            "\n",
            "--- Prediction Breakdown ---\n",
            "Wx = [-0.81988746  0.5952919 ]\n",
            "φ(W) · ψ(x) = [-0.0795441  0.3570227]\n",
            "GELU_tanh  = [-0.16910204  0.43106397]\n",
            "RMSE = 0.08217\n",
            "\n",
            "=== Training for 30 epochs ===\n",
            "Epoch 1: MSE = 0.6745\n",
            "Epoch 2: MSE = 0.2674\n",
            "Epoch 3: MSE = 0.1620\n",
            "Epoch 4: MSE = 0.1238\n",
            "Epoch 5: MSE = 0.0981\n",
            "Epoch 6: MSE = 0.0842\n",
            "Epoch 7: MSE = 0.0713\n",
            "Epoch 8: MSE = 0.0644\n",
            "Epoch 9: MSE = 0.0572\n",
            "Epoch 10: MSE = 0.0529\n",
            "Epoch 11: MSE = 0.0474\n",
            "Epoch 12: MSE = 0.0439\n",
            "Epoch 13: MSE = 0.0400\n",
            "Epoch 14: MSE = 0.0358\n",
            "Epoch 15: MSE = 0.0323\n",
            "Epoch 16: MSE = 0.0278\n",
            "Epoch 17: MSE = 0.0238\n",
            "Epoch 18: MSE = 0.0199\n",
            "Epoch 19: MSE = 0.0166\n",
            "Epoch 20: MSE = 0.0142\n",
            "Epoch 21: MSE = 0.0121\n",
            "Epoch 22: MSE = 0.0115\n",
            "Epoch 23: MSE = 0.0102\n",
            "Epoch 24: MSE = 0.0102\n",
            "Epoch 25: MSE = 0.0096\n",
            "Epoch 26: MSE = 0.0091\n",
            "Epoch 27: MSE = 0.0087\n",
            "Epoch 28: MSE = 0.0087\n",
            "Epoch 29: MSE = 0.0093\n",
            "Epoch 30: MSE = 0.0084\n",
            "\n",
            "--- Prediction Breakdown ---\n",
            "Wx = [-1.0528519  2.7272117]\n",
            "φ(W) · ψ(x) = [-0.2800275  2.713799 ]\n",
            "GELU_tanh  = [-0.15410259  2.71897469]\n",
            "RMSE = 0.08912\n",
            "\n",
            "✅ Best model: 10 epochs (RMSE = 0.08217)\n"
          ]
        }
      ]
    },
    {
      "cell_type": "markdown",
      "source": [],
      "metadata": {
        "id": "juqg65s1ITaz"
      }
    }
  ]
}